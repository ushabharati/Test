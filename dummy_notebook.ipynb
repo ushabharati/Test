{
 "cells": [
  {
   "cell_type": "markdown",
   "id": "3d97e056-1059-4a4d-8243-c6bada319b9c",
   "metadata": {},
   "source": [
    "# Test Script"
   ]
  },
  {
   "cell_type": "markdown",
   "id": "99bdefaa-c226-4117-8d8d-c54dd972a3b4",
   "metadata": {},
   "source": [
    "# Dummy Code"
   ]
  },
  {
   "cell_type": "code",
   "execution_count": 1,
   "id": "cf82c16c-fbe9-4435-a4c2-5a8a0857746f",
   "metadata": {
    "tags": []
   },
   "outputs": [
    {
     "name": "stdout",
     "output_type": "stream",
     "text": [
      "3\n"
     ]
    }
   ],
   "source": [
    "x=1\n",
    "y=2\n",
    "print(x+y)"
   ]
  },
  {
   "cell_type": "code",
   "execution_count": null,
   "id": "85b4e4a1-b782-466a-8956-3e0a9e8a7f27",
   "metadata": {},
   "outputs": [],
   "source": []
  },
  {
   "cell_type": "code",
   "execution_count": null,
   "id": "d131ae1a-b7ba-4adb-a788-acb5cc17256d",
   "metadata": {},
   "outputs": [],
   "source": []
  }
 ],
 "metadata": {
  "kernelspec": {
   "display_name": "Python 3 (ipykernel)",
   "language": "python",
   "name": "python3"
  },
  "language_info": {
   "codemirror_mode": {
    "name": "ipython",
    "version": 3
   },
   "file_extension": ".py",
   "mimetype": "text/x-python",
   "name": "python",
   "nbconvert_exporter": "python",
   "pygments_lexer": "ipython3",
   "version": "3.11.5"
  }
 },
 "nbformat": 4,
 "nbformat_minor": 5
}
